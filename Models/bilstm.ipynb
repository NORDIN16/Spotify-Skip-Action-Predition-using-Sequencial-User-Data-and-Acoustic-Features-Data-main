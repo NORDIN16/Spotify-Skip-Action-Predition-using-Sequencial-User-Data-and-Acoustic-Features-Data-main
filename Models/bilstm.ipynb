{
 "cells": [
  {
   "cell_type": "markdown",
   "id": "da806eed",
   "metadata": {},
   "source": [
    "# Uploading the required data"
   ]
  },
  {
   "cell_type": "code",
   "execution_count": 2,
   "id": "1c9998cb",
   "metadata": {},
   "outputs": [],
   "source": [
    "import numpy as np\n",
    "import matplotlib.pyplot as plt\n",
    "import pandas as pd\n",
    "import sklearn\n",
    "import random\n",
    "from sklearn.ensemble import GradientBoostingClassifier\n",
    "random.seed(0)"
   ]
  },
  {
   "cell_type": "code",
   "execution_count": 1,
   "id": "37e3b048",
   "metadata": {},
   "outputs": [
    {
     "name": "stderr",
     "output_type": "stream",
     "text": [
      "  WARNING: Retrying (Retry(total=4, connect=None, read=None, redirect=None, status=None)) after connection broken by 'ReadTimeoutError(\"HTTPSConnectionPool(host='files.pythonhosted.org', port=443): Read timed out. (read timeout=15)\")': /packages/0b/5f/1f18758c6b6a04e8f026cd631df5f728903624659ed55b20715f1762143e/tf_nightly-2.11.0.dev20220808-cp39-cp39-win_amd64.whl\n",
      "ERROR: Exception:\n",
      "Traceback (most recent call last):\n",
      "  File \"C:\\Users\\Noureddine\\anaconda3\\lib\\site-packages\\pip\\_vendor\\urllib3\\response.py\", line 438, in _error_catcher\n",
      "    yield\n",
      "  File \"C:\\Users\\Noureddine\\anaconda3\\lib\\site-packages\\pip\\_vendor\\urllib3\\response.py\", line 519, in read\n",
      "    data = self._fp.read(amt) if not fp_closed else b\"\"\n",
      "  File \"C:\\Users\\Noureddine\\anaconda3\\lib\\site-packages\\pip\\_vendor\\cachecontrol\\filewrapper.py\", line 62, in read\n",
      "    data = self.__fp.read(amt)\n",
      "  File \"C:\\Users\\Noureddine\\anaconda3\\lib\\http\\client.py\", line 462, in read\n",
      "    n = self.readinto(b)\n",
      "  File \"C:\\Users\\Noureddine\\anaconda3\\lib\\http\\client.py\", line 506, in readinto\n",
      "    n = self.fp.readinto(b)\n",
      "  File \"C:\\Users\\Noureddine\\anaconda3\\lib\\socket.py\", line 704, in readinto\n",
      "    return self._sock.recv_into(b)\n",
      "  File \"C:\\Users\\Noureddine\\anaconda3\\lib\\ssl.py\", line 1241, in recv_into\n",
      "    return self.read(nbytes, buffer)\n",
      "  File \"C:\\Users\\Noureddine\\anaconda3\\lib\\ssl.py\", line 1099, in read\n",
      "    return self._sslobj.read(len, buffer)\n",
      "ConnectionResetError: [WinError 10054] Une connexion existante a dû être fermée par l’hôte distant\n",
      "\n",
      "During handling of the above exception, another exception occurred:\n",
      "\n",
      "Traceback (most recent call last):\n",
      "  File \"C:\\Users\\Noureddine\\anaconda3\\lib\\site-packages\\pip\\_internal\\cli\\base_command.py\", line 173, in _main\n",
      "    status = self.run(options, args)\n",
      "  File \"C:\\Users\\Noureddine\\anaconda3\\lib\\site-packages\\pip\\_internal\\cli\\req_command.py\", line 203, in wrapper\n",
      "    return func(self, options, args)\n",
      "  File \"C:\\Users\\Noureddine\\anaconda3\\lib\\site-packages\\pip\\_internal\\commands\\install.py\", line 315, in run\n",
      "    requirement_set = resolver.resolve(\n",
      "  File \"C:\\Users\\Noureddine\\anaconda3\\lib\\site-packages\\pip\\_internal\\resolution\\resolvelib\\resolver.py\", line 94, in resolve\n",
      "    result = self._result = resolver.resolve(\n",
      "  File \"C:\\Users\\Noureddine\\anaconda3\\lib\\site-packages\\pip\\_vendor\\resolvelib\\resolvers.py\", line 472, in resolve\n",
      "    state = resolution.resolve(requirements, max_rounds=max_rounds)\n",
      "  File \"C:\\Users\\Noureddine\\anaconda3\\lib\\site-packages\\pip\\_vendor\\resolvelib\\resolvers.py\", line 366, in resolve\n",
      "    failure_causes = self._attempt_to_pin_criterion(name)\n",
      "  File \"C:\\Users\\Noureddine\\anaconda3\\lib\\site-packages\\pip\\_vendor\\resolvelib\\resolvers.py\", line 210, in _attempt_to_pin_criterion\n",
      "    for candidate in criterion.candidates:\n",
      "  File \"C:\\Users\\Noureddine\\anaconda3\\lib\\site-packages\\pip\\_internal\\resolution\\resolvelib\\found_candidates.py\", line 128, in <genexpr>\n",
      "    return (c for c in iterator if id(c) not in self._incompatible_ids)\n",
      "  File \"C:\\Users\\Noureddine\\anaconda3\\lib\\site-packages\\pip\\_internal\\resolution\\resolvelib\\found_candidates.py\", line 32, in _iter_built\n",
      "    candidate = func()\n",
      "  File \"C:\\Users\\Noureddine\\anaconda3\\lib\\site-packages\\pip\\_internal\\resolution\\resolvelib\\factory.py\", line 204, in _make_candidate_from_link\n",
      "    self._link_candidate_cache[link] = LinkCandidate(\n",
      "  File \"C:\\Users\\Noureddine\\anaconda3\\lib\\site-packages\\pip\\_internal\\resolution\\resolvelib\\candidates.py\", line 295, in __init__\n",
      "    super().__init__(\n",
      "  File \"C:\\Users\\Noureddine\\anaconda3\\lib\\site-packages\\pip\\_internal\\resolution\\resolvelib\\candidates.py\", line 156, in __init__\n",
      "    self.dist = self._prepare()\n",
      "  File \"C:\\Users\\Noureddine\\anaconda3\\lib\\site-packages\\pip\\_internal\\resolution\\resolvelib\\candidates.py\", line 227, in _prepare\n",
      "    dist = self._prepare_distribution()\n",
      "  File \"C:\\Users\\Noureddine\\anaconda3\\lib\\site-packages\\pip\\_internal\\resolution\\resolvelib\\candidates.py\", line 305, in _prepare_distribution\n",
      "    return self._factory.preparer.prepare_linked_requirement(\n",
      "  File \"C:\\Users\\Noureddine\\anaconda3\\lib\\site-packages\\pip\\_internal\\operations\\prepare.py\", line 508, in prepare_linked_requirement\n",
      "    return self._prepare_linked_requirement(req, parallel_builds)\n",
      "  File \"C:\\Users\\Noureddine\\anaconda3\\lib\\site-packages\\pip\\_internal\\operations\\prepare.py\", line 550, in _prepare_linked_requirement\n",
      "    local_file = unpack_url(\n",
      "  File \"C:\\Users\\Noureddine\\anaconda3\\lib\\site-packages\\pip\\_internal\\operations\\prepare.py\", line 239, in unpack_url\n",
      "    file = get_http_url(\n",
      "  File \"C:\\Users\\Noureddine\\anaconda3\\lib\\site-packages\\pip\\_internal\\operations\\prepare.py\", line 102, in get_http_url\n",
      "    from_path, content_type = download(link, temp_dir.path)\n",
      "  File \"C:\\Users\\Noureddine\\anaconda3\\lib\\site-packages\\pip\\_internal\\network\\download.py\", line 145, in __call__\n",
      "    for chunk in chunks:\n",
      "  File \"C:\\Users\\Noureddine\\anaconda3\\lib\\site-packages\\pip\\_internal\\network\\utils.py\", line 63, in response_chunks\n",
      "    for chunk in response.raw.stream(\n",
      "  File \"C:\\Users\\Noureddine\\anaconda3\\lib\\site-packages\\pip\\_vendor\\urllib3\\response.py\", line 576, in stream\n",
      "    data = self.read(amt=amt, decode_content=decode_content)\n",
      "  File \"C:\\Users\\Noureddine\\anaconda3\\lib\\site-packages\\pip\\_vendor\\urllib3\\response.py\", line 541, in read\n",
      "    raise IncompleteRead(self._fp_bytes_read, self.length_remaining)\n",
      "  File \"C:\\Users\\Noureddine\\anaconda3\\lib\\contextlib.py\", line 137, in __exit__\n",
      "    self.gen.throw(typ, value, traceback)\n",
      "  File \"C:\\Users\\Noureddine\\anaconda3\\lib\\site-packages\\pip\\_vendor\\urllib3\\response.py\", line 455, in _error_catcher\n",
      "    raise ProtocolError(\"Connection broken: %r\" % e, e)\n",
      "pip._vendor.urllib3.exceptions.ProtocolError: (\"Connection broken: ConnectionResetError(10054, 'Une connexion existante a dû être fermée par l’hôte distant', None, 10054, None)\", ConnectionResetError(10054, 'Une connexion existante a dû être fermée par l’hôte distant', None, 10054, None))\n",
      "WARNING: Retrying (Retry(total=4, connect=None, read=None, redirect=None, status=None)) after connection broken by 'NewConnectionError('<pip._vendor.urllib3.connection.HTTPSConnection object at 0x000002321297F310>: Failed to establish a new connection: [Errno 11001] getaddrinfo failed')': /simple/opencv-python-headless/\n",
      "WARNING: Retrying (Retry(total=3, connect=None, read=None, redirect=None, status=None)) after connection broken by 'NewConnectionError('<pip._vendor.urllib3.connection.HTTPSConnection object at 0x000002321297F910>: Failed to establish a new connection: [Errno 11001] getaddrinfo failed')': /simple/opencv-python-headless/\n",
      "WARNING: Retrying (Retry(total=2, connect=None, read=None, redirect=None, status=None)) after connection broken by 'NewConnectionError('<pip._vendor.urllib3.connection.HTTPSConnection object at 0x000002321297FAC0>: Failed to establish a new connection: [Errno 11001] getaddrinfo failed')': /simple/opencv-python-headless/\n",
      "WARNING: Retrying (Retry(total=1, connect=None, read=None, redirect=None, status=None)) after connection broken by 'NewConnectionError('<pip._vendor.urllib3.connection.HTTPSConnection object at 0x000002321297FC70>: Failed to establish a new connection: [Errno 11001] getaddrinfo failed')': /simple/opencv-python-headless/\n",
      "WARNING: Retrying (Retry(total=0, connect=None, read=None, redirect=None, status=None)) after connection broken by 'NewConnectionError('<pip._vendor.urllib3.connection.HTTPSConnection object at 0x000002321297FE20>: Failed to establish a new connection: [Errno 11001] getaddrinfo failed')': /simple/opencv-python-headless/\n",
      "ERROR: Could not find a version that satisfies the requirement opencv-python-headless==4.1.2.30 (from versions: none)\n",
      "ERROR: No matching distribution found for opencv-python-headless==4.1.2.30\n"
     ]
    }
   ],
   "source": [
    "!pip3 install -q tf-models-nightly\n",
    "# Fix Colab default opencv problem\n",
    "!pip3 install -q opencv-python-headless==4.1.2.30\n",
    "\n",
    "## Colab environment setup. To use a stable TF release version\n",
    "##  because of the possible breakage in tf-nightly.\n",
    "# !pip3 install -U numpy>=1.20\n",
    "# !pip3 install -q tensorflow==2.8.0"
   ]
  },
  {
   "cell_type": "markdown",
   "id": "2a972afd",
   "metadata": {},
   "source": [
    "# Uploading the data"
   ]
  },
  {
   "cell_type": "code",
   "execution_count": 2,
   "id": "7d4556eb",
   "metadata": {},
   "outputs": [],
   "source": [
    "df = pd.read_csv('Best_accuaracy_data.csv')"
   ]
  },
  {
   "cell_type": "markdown",
   "id": "c43f9ad1",
   "metadata": {},
   "source": [
    "Removing useless data"
   ]
  },
  {
   "cell_type": "code",
   "execution_count": 3,
   "id": "bc9ce3e4",
   "metadata": {},
   "outputs": [],
   "source": [
    "df.drop(['Unnamed: 0', 'release_year', 'catalog', 'editorial_playlist', 'False', 'weekday', 'True',\n",
    "        'major', 'time_signature', 'start_endplay', 'end_clickrow', 'start_backbtn'], axis=1, inplace = True)"
   ]
  },
  {
   "cell_type": "code",
   "execution_count": 4,
   "id": "292565a6",
   "metadata": {
    "scrolled": true
   },
   "outputs": [
    {
     "data": {
      "text/html": [
       "<div>\n",
       "<style scoped>\n",
       "    .dataframe tbody tr th:only-of-type {\n",
       "        vertical-align: middle;\n",
       "    }\n",
       "\n",
       "    .dataframe tbody tr th {\n",
       "        vertical-align: top;\n",
       "    }\n",
       "\n",
       "    .dataframe thead th {\n",
       "        text-align: right;\n",
       "    }\n",
       "</style>\n",
       "<table border=\"1\" class=\"dataframe\">\n",
       "  <thead>\n",
       "    <tr style=\"text-align: right;\">\n",
       "      <th></th>\n",
       "      <th>skipped</th>\n",
       "      <th>session_length</th>\n",
       "      <th>short_pause_before_play</th>\n",
       "      <th>hist_user_behavior_n_seekfwd</th>\n",
       "      <th>hist_user_behavior_n_seekback</th>\n",
       "      <th>duration</th>\n",
       "      <th>us_popularity_estimate</th>\n",
       "      <th>beat_strength</th>\n",
       "      <th>danceability</th>\n",
       "      <th>energy</th>\n",
       "      <th>...</th>\n",
       "      <th>acoustic_vector_4</th>\n",
       "      <th>acoustic_vector_6</th>\n",
       "      <th>acoustic_vector_7</th>\n",
       "      <th>start_clickrow</th>\n",
       "      <th>start_fwdbtn</th>\n",
       "      <th>start_trackdone</th>\n",
       "      <th>end_backbtn</th>\n",
       "      <th>end_endplay</th>\n",
       "      <th>end_fwdbtn</th>\n",
       "      <th>end_trackdone</th>\n",
       "    </tr>\n",
       "  </thead>\n",
       "  <tbody>\n",
       "    <tr>\n",
       "      <th>0</th>\n",
       "      <td>0.0</td>\n",
       "      <td>20.0</td>\n",
       "      <td>0.0</td>\n",
       "      <td>0.0</td>\n",
       "      <td>0.0</td>\n",
       "      <td>180.066666</td>\n",
       "      <td>99.968133</td>\n",
       "      <td>0.438551</td>\n",
       "      <td>0.653119</td>\n",
       "      <td>0.553465</td>\n",
       "      <td>...</td>\n",
       "      <td>-0.333373</td>\n",
       "      <td>-0.353590</td>\n",
       "      <td>0.205826</td>\n",
       "      <td>0.0</td>\n",
       "      <td>0.0</td>\n",
       "      <td>1.0</td>\n",
       "      <td>0.0</td>\n",
       "      <td>0.0</td>\n",
       "      <td>0.0</td>\n",
       "      <td>1.0</td>\n",
       "    </tr>\n",
       "    <tr>\n",
       "      <th>1</th>\n",
       "      <td>0.0</td>\n",
       "      <td>20.0</td>\n",
       "      <td>0.0</td>\n",
       "      <td>0.0</td>\n",
       "      <td>0.0</td>\n",
       "      <td>236.796371</td>\n",
       "      <td>99.896728</td>\n",
       "      <td>0.654804</td>\n",
       "      <td>0.877393</td>\n",
       "      <td>0.726828</td>\n",
       "      <td>...</td>\n",
       "      <td>-0.383164</td>\n",
       "      <td>-0.365308</td>\n",
       "      <td>0.157920</td>\n",
       "      <td>0.0</td>\n",
       "      <td>0.0</td>\n",
       "      <td>1.0</td>\n",
       "      <td>0.0</td>\n",
       "      <td>0.0</td>\n",
       "      <td>0.0</td>\n",
       "      <td>1.0</td>\n",
       "    </tr>\n",
       "    <tr>\n",
       "      <th>2</th>\n",
       "      <td>0.0</td>\n",
       "      <td>20.0</td>\n",
       "      <td>0.0</td>\n",
       "      <td>0.0</td>\n",
       "      <td>0.0</td>\n",
       "      <td>231.266663</td>\n",
       "      <td>99.999976</td>\n",
       "      <td>0.532155</td>\n",
       "      <td>0.679719</td>\n",
       "      <td>0.563009</td>\n",
       "      <td>...</td>\n",
       "      <td>-0.299745</td>\n",
       "      <td>-0.486689</td>\n",
       "      <td>0.181604</td>\n",
       "      <td>0.0</td>\n",
       "      <td>0.0</td>\n",
       "      <td>1.0</td>\n",
       "      <td>0.0</td>\n",
       "      <td>0.0</td>\n",
       "      <td>0.0</td>\n",
       "      <td>1.0</td>\n",
       "    </tr>\n",
       "    <tr>\n",
       "      <th>3</th>\n",
       "      <td>0.0</td>\n",
       "      <td>20.0</td>\n",
       "      <td>0.0</td>\n",
       "      <td>0.0</td>\n",
       "      <td>0.0</td>\n",
       "      <td>169.826675</td>\n",
       "      <td>99.995038</td>\n",
       "      <td>0.641756</td>\n",
       "      <td>0.864881</td>\n",
       "      <td>0.529484</td>\n",
       "      <td>...</td>\n",
       "      <td>-0.393358</td>\n",
       "      <td>-0.364418</td>\n",
       "      <td>0.285603</td>\n",
       "      <td>0.0</td>\n",
       "      <td>0.0</td>\n",
       "      <td>1.0</td>\n",
       "      <td>0.0</td>\n",
       "      <td>0.0</td>\n",
       "      <td>0.0</td>\n",
       "      <td>1.0</td>\n",
       "    </tr>\n",
       "    <tr>\n",
       "      <th>4</th>\n",
       "      <td>0.0</td>\n",
       "      <td>20.0</td>\n",
       "      <td>0.0</td>\n",
       "      <td>0.0</td>\n",
       "      <td>0.0</td>\n",
       "      <td>210.545258</td>\n",
       "      <td>99.998498</td>\n",
       "      <td>0.732428</td>\n",
       "      <td>0.857778</td>\n",
       "      <td>0.650057</td>\n",
       "      <td>...</td>\n",
       "      <td>-0.333287</td>\n",
       "      <td>-0.510350</td>\n",
       "      <td>0.182315</td>\n",
       "      <td>0.0</td>\n",
       "      <td>0.0</td>\n",
       "      <td>1.0</td>\n",
       "      <td>0.0</td>\n",
       "      <td>0.0</td>\n",
       "      <td>0.0</td>\n",
       "      <td>1.0</td>\n",
       "    </tr>\n",
       "  </tbody>\n",
       "</table>\n",
       "<p>5 rows × 28 columns</p>\n",
       "</div>"
      ],
      "text/plain": [
       "   skipped  session_length  short_pause_before_play  \\\n",
       "0      0.0            20.0                      0.0   \n",
       "1      0.0            20.0                      0.0   \n",
       "2      0.0            20.0                      0.0   \n",
       "3      0.0            20.0                      0.0   \n",
       "4      0.0            20.0                      0.0   \n",
       "\n",
       "   hist_user_behavior_n_seekfwd  hist_user_behavior_n_seekback    duration  \\\n",
       "0                           0.0                            0.0  180.066666   \n",
       "1                           0.0                            0.0  236.796371   \n",
       "2                           0.0                            0.0  231.266663   \n",
       "3                           0.0                            0.0  169.826675   \n",
       "4                           0.0                            0.0  210.545258   \n",
       "\n",
       "   us_popularity_estimate  beat_strength  danceability    energy  ...  \\\n",
       "0               99.968133       0.438551      0.653119  0.553465  ...   \n",
       "1               99.896728       0.654804      0.877393  0.726828  ...   \n",
       "2               99.999976       0.532155      0.679719  0.563009  ...   \n",
       "3               99.995038       0.641756      0.864881  0.529484  ...   \n",
       "4               99.998498       0.732428      0.857778  0.650057  ...   \n",
       "\n",
       "   acoustic_vector_4  acoustic_vector_6  acoustic_vector_7  start_clickrow  \\\n",
       "0          -0.333373          -0.353590           0.205826             0.0   \n",
       "1          -0.383164          -0.365308           0.157920             0.0   \n",
       "2          -0.299745          -0.486689           0.181604             0.0   \n",
       "3          -0.393358          -0.364418           0.285603             0.0   \n",
       "4          -0.333287          -0.510350           0.182315             0.0   \n",
       "\n",
       "   start_fwdbtn  start_trackdone  end_backbtn  end_endplay  end_fwdbtn  \\\n",
       "0           0.0              1.0          0.0          0.0         0.0   \n",
       "1           0.0              1.0          0.0          0.0         0.0   \n",
       "2           0.0              1.0          0.0          0.0         0.0   \n",
       "3           0.0              1.0          0.0          0.0         0.0   \n",
       "4           0.0              1.0          0.0          0.0         0.0   \n",
       "\n",
       "   end_trackdone  \n",
       "0            1.0  \n",
       "1            1.0  \n",
       "2            1.0  \n",
       "3            1.0  \n",
       "4            1.0  \n",
       "\n",
       "[5 rows x 28 columns]"
      ]
     },
     "execution_count": 4,
     "metadata": {},
     "output_type": "execute_result"
    }
   ],
   "source": [
    "df.head()"
   ]
  },
  {
   "cell_type": "code",
   "execution_count": 5,
   "id": "0bc8e656",
   "metadata": {},
   "outputs": [],
   "source": [
    "columns = [col for col in df.columns]\n",
    "\n",
    "# Converting column types of .astype in a for loop\n",
    "for col in columns:\n",
    "  \n",
    "  df[col] = pd.to_numeric(df[col], errors='coerce')\n",
    "  df[col] = df[col].astype(float)"
   ]
  },
  {
   "cell_type": "code",
   "execution_count": 6,
   "id": "680660b9",
   "metadata": {},
   "outputs": [
    {
     "data": {
      "text/html": [
       "<div>\n",
       "<style scoped>\n",
       "    .dataframe tbody tr th:only-of-type {\n",
       "        vertical-align: middle;\n",
       "    }\n",
       "\n",
       "    .dataframe tbody tr th {\n",
       "        vertical-align: top;\n",
       "    }\n",
       "\n",
       "    .dataframe thead th {\n",
       "        text-align: right;\n",
       "    }\n",
       "</style>\n",
       "<table border=\"1\" class=\"dataframe\">\n",
       "  <thead>\n",
       "    <tr style=\"text-align: right;\">\n",
       "      <th></th>\n",
       "      <th>skipped</th>\n",
       "      <th>session_length</th>\n",
       "      <th>short_pause_before_play</th>\n",
       "      <th>hist_user_behavior_n_seekfwd</th>\n",
       "      <th>hist_user_behavior_n_seekback</th>\n",
       "      <th>duration</th>\n",
       "      <th>us_popularity_estimate</th>\n",
       "      <th>beat_strength</th>\n",
       "      <th>danceability</th>\n",
       "      <th>energy</th>\n",
       "      <th>...</th>\n",
       "      <th>acoustic_vector_4</th>\n",
       "      <th>acoustic_vector_6</th>\n",
       "      <th>acoustic_vector_7</th>\n",
       "      <th>start_clickrow</th>\n",
       "      <th>start_fwdbtn</th>\n",
       "      <th>start_trackdone</th>\n",
       "      <th>end_backbtn</th>\n",
       "      <th>end_endplay</th>\n",
       "      <th>end_fwdbtn</th>\n",
       "      <th>end_trackdone</th>\n",
       "    </tr>\n",
       "  </thead>\n",
       "  <tbody>\n",
       "    <tr>\n",
       "      <th>0</th>\n",
       "      <td>0.0</td>\n",
       "      <td>20.0</td>\n",
       "      <td>0.0</td>\n",
       "      <td>0.0</td>\n",
       "      <td>0.0</td>\n",
       "      <td>180.066666</td>\n",
       "      <td>99.968133</td>\n",
       "      <td>0.438551</td>\n",
       "      <td>0.653119</td>\n",
       "      <td>0.553465</td>\n",
       "      <td>...</td>\n",
       "      <td>-0.333373</td>\n",
       "      <td>-0.353590</td>\n",
       "      <td>0.205826</td>\n",
       "      <td>0.0</td>\n",
       "      <td>0.0</td>\n",
       "      <td>1.0</td>\n",
       "      <td>0.0</td>\n",
       "      <td>0.0</td>\n",
       "      <td>0.0</td>\n",
       "      <td>1.0</td>\n",
       "    </tr>\n",
       "    <tr>\n",
       "      <th>1</th>\n",
       "      <td>0.0</td>\n",
       "      <td>20.0</td>\n",
       "      <td>0.0</td>\n",
       "      <td>0.0</td>\n",
       "      <td>0.0</td>\n",
       "      <td>236.796371</td>\n",
       "      <td>99.896728</td>\n",
       "      <td>0.654804</td>\n",
       "      <td>0.877393</td>\n",
       "      <td>0.726828</td>\n",
       "      <td>...</td>\n",
       "      <td>-0.383164</td>\n",
       "      <td>-0.365308</td>\n",
       "      <td>0.157920</td>\n",
       "      <td>0.0</td>\n",
       "      <td>0.0</td>\n",
       "      <td>1.0</td>\n",
       "      <td>0.0</td>\n",
       "      <td>0.0</td>\n",
       "      <td>0.0</td>\n",
       "      <td>1.0</td>\n",
       "    </tr>\n",
       "  </tbody>\n",
       "</table>\n",
       "<p>2 rows × 28 columns</p>\n",
       "</div>"
      ],
      "text/plain": [
       "   skipped  session_length  short_pause_before_play  \\\n",
       "0      0.0            20.0                      0.0   \n",
       "1      0.0            20.0                      0.0   \n",
       "\n",
       "   hist_user_behavior_n_seekfwd  hist_user_behavior_n_seekback    duration  \\\n",
       "0                           0.0                            0.0  180.066666   \n",
       "1                           0.0                            0.0  236.796371   \n",
       "\n",
       "   us_popularity_estimate  beat_strength  danceability    energy  ...  \\\n",
       "0               99.968133       0.438551      0.653119  0.553465  ...   \n",
       "1               99.896728       0.654804      0.877393  0.726828  ...   \n",
       "\n",
       "   acoustic_vector_4  acoustic_vector_6  acoustic_vector_7  start_clickrow  \\\n",
       "0          -0.333373          -0.353590           0.205826             0.0   \n",
       "1          -0.383164          -0.365308           0.157920             0.0   \n",
       "\n",
       "   start_fwdbtn  start_trackdone  end_backbtn  end_endplay  end_fwdbtn  \\\n",
       "0           0.0              1.0          0.0          0.0         0.0   \n",
       "1           0.0              1.0          0.0          0.0         0.0   \n",
       "\n",
       "   end_trackdone  \n",
       "0            1.0  \n",
       "1            1.0  \n",
       "\n",
       "[2 rows x 28 columns]"
      ]
     },
     "execution_count": 6,
     "metadata": {},
     "output_type": "execute_result"
    }
   ],
   "source": [
    "df.head(2)"
   ]
  },
  {
   "cell_type": "code",
   "execution_count": 7,
   "id": "aa52d678",
   "metadata": {},
   "outputs": [
    {
     "name": "stdout",
     "output_type": "stream",
     "text": [
      "<class 'pandas.core.frame.DataFrame'>\n",
      "RangeIndex: 167880 entries, 0 to 167879\n",
      "Data columns (total 28 columns):\n",
      " #   Column                         Non-Null Count   Dtype  \n",
      "---  ------                         --------------   -----  \n",
      " 0   skipped                        167880 non-null  float64\n",
      " 1   session_length                 167880 non-null  float64\n",
      " 2   short_pause_before_play        167880 non-null  float64\n",
      " 3   hist_user_behavior_n_seekfwd   167880 non-null  float64\n",
      " 4   hist_user_behavior_n_seekback  167880 non-null  float64\n",
      " 5   duration                       167880 non-null  float64\n",
      " 6   us_popularity_estimate         167880 non-null  float64\n",
      " 7   beat_strength                  167880 non-null  float64\n",
      " 8   danceability                   167880 non-null  float64\n",
      " 9   energy                         167880 non-null  float64\n",
      " 10  flatness                       167880 non-null  float64\n",
      " 11  loudness                       167880 non-null  float64\n",
      " 12  organism                       167880 non-null  float64\n",
      " 13  speechiness                    167880 non-null  float64\n",
      " 14  tempo                          167880 non-null  float64\n",
      " 15  valence                        167880 non-null  float64\n",
      " 16  acoustic_vector_0              167880 non-null  float64\n",
      " 17  acoustic_vector_1              167880 non-null  float64\n",
      " 18  acoustic_vector_4              167880 non-null  float64\n",
      " 19  acoustic_vector_6              167880 non-null  float64\n",
      " 20  acoustic_vector_7              167880 non-null  float64\n",
      " 21  start_clickrow                 167880 non-null  float64\n",
      " 22  start_fwdbtn                   167880 non-null  float64\n",
      " 23  start_trackdone                167880 non-null  float64\n",
      " 24  end_backbtn                    167880 non-null  float64\n",
      " 25  end_endplay                    167880 non-null  float64\n",
      " 26  end_fwdbtn                     167880 non-null  float64\n",
      " 27  end_trackdone                  167880 non-null  float64\n",
      "dtypes: float64(28)\n",
      "memory usage: 35.9 MB\n"
     ]
    }
   ],
   "source": [
    "df.info()"
   ]
  },
  {
   "cell_type": "markdown",
   "id": "750b09c4",
   "metadata": {},
   "source": [
    "# GBT Classifier"
   ]
  },
  {
   "cell_type": "code",
   "execution_count": null,
   "id": "85581d2c",
   "metadata": {},
   "outputs": [],
   "source": [
    "embedding_vector_features=40\n",
    "model1=Sequential()\n",
    "model1.add(Embedding(voc_size,embedding_vector_features,input_length=sent_length))\n",
    "model1.add(Bidirectional(LSTM(100)))\n",
    "model1.add(Dropout(0.3))\n",
    "model1.add(Dense(1,activation='sigmoid'))\n",
    "model1.compile(loss='binary_crossentropy',optimizer='adam',metrics=['accuracy'])\n",
    "print(model1.summary())"
   ]
  },
  {
   "cell_type": "markdown",
   "id": "1777af98",
   "metadata": {},
   "source": [
    "Data Preprocessing will be done with the help of following script lines.\n",
    "\n"
   ]
  },
  {
   "cell_type": "code",
   "execution_count": 8,
   "id": "9da8047f",
   "metadata": {},
   "outputs": [],
   "source": [
    "X = df.iloc[:, 1:]\n",
    "y = df.iloc[:, 0]"
   ]
  },
  {
   "cell_type": "code",
   "execution_count": 9,
   "id": "ae90f43d",
   "metadata": {},
   "outputs": [],
   "source": [
    "X = pd.get_dummies(X)"
   ]
  },
  {
   "cell_type": "markdown",
   "id": "689e3649",
   "metadata": {},
   "source": [
    "Next, we will divide the data into train and test split. Following code will split the dataset into 90% training data and 10% of testing data −"
   ]
  },
  {
   "cell_type": "code",
   "execution_count": 10,
   "id": "7088809f",
   "metadata": {},
   "outputs": [],
   "source": [
    "from sklearn.model_selection import train_test_split\n",
    "X_train, X_test, y_train, y_test = train_test_split(X, y, test_size = 0.1, random_state = 30)"
   ]
  },
  {
   "cell_type": "markdown",
   "id": "d77e1752",
   "metadata": {},
   "source": [
    "Next, data scaling will be done as follows −\n",
    "\n"
   ]
  },
  {
   "cell_type": "code",
   "execution_count": 11,
   "id": "1186f640",
   "metadata": {},
   "outputs": [],
   "source": [
    "from sklearn.preprocessing import StandardScaler\n",
    "scaler = StandardScaler()\n",
    "scaler.fit(X_train)\n",
    "X_train = scaler.transform(X_train)\n",
    "X_test = scaler.transform(X_test)"
   ]
  },
  {
   "cell_type": "markdown",
   "id": "7acdd2c9",
   "metadata": {},
   "source": [
    "Next, train the model with the help of GBT class of sklearn as follows −\n",
    "\n"
   ]
  },
  {
   "cell_type": "code",
   "execution_count": 12,
   "id": "306ce94e",
   "metadata": {},
   "outputs": [
    {
     "data": {
      "text/plain": [
       "GradientBoostingClassifier()"
      ]
     },
     "execution_count": 12,
     "metadata": {},
     "output_type": "execute_result"
    }
   ],
   "source": [
    "#Import GBT model\n",
    "from sklearn.ensemble import GradientBoostingClassifier\n",
    "\n",
    "#Create a GBT Classifier\n",
    "gradient_booster = GradientBoostingClassifier(learning_rate=0.1)\n",
    "\n",
    "#Train the model using the training sets\n",
    "gradient_booster.fit(X_train, y_train)\n"
   ]
  },
  {
   "cell_type": "markdown",
   "id": "100306e5",
   "metadata": {},
   "source": [
    "At last we need to make prediction. It can be done with the help of following script −\n",
    "\n"
   ]
  },
  {
   "cell_type": "code",
   "execution_count": 13,
   "id": "1c026383",
   "metadata": {},
   "outputs": [],
   "source": [
    "y_pred = gradient_booster.predict(X_test)\n"
   ]
  },
  {
   "cell_type": "markdown",
   "id": "91963632",
   "metadata": {},
   "source": [
    "Next, print the results as follows −\n",
    "\n"
   ]
  },
  {
   "cell_type": "code",
   "execution_count": 14,
   "id": "bdba1eac",
   "metadata": {},
   "outputs": [
    {
     "name": "stdout",
     "output_type": "stream",
     "text": [
      "Confusion Matrix:\n",
      "[[ 5592   256]\n",
      " [   43 10897]]\n",
      "Classification Report:\n",
      "              precision    recall  f1-score   support\n",
      "\n",
      "         0.0       0.99      0.96      0.97      5848\n",
      "         1.0       0.98      1.00      0.99     10940\n",
      "\n",
      "    accuracy                           0.98     16788\n",
      "   macro avg       0.98      0.98      0.98     16788\n",
      "weighted avg       0.98      0.98      0.98     16788\n",
      "\n",
      "Accuracy: 0.9821896592804384\n"
     ]
    }
   ],
   "source": [
    "from sklearn.metrics import classification_report, confusion_matrix, accuracy_score\n",
    "result = confusion_matrix(y_test, y_pred)\n",
    "print(\"Confusion Matrix:\")\n",
    "print(result)\n",
    "result1 = classification_report(y_test, y_pred)\n",
    "print(\"Classification Report:\",)\n",
    "print (result1)\n",
    "result2 = accuracy_score(y_test,y_pred)\n",
    "print(\"Accuracy:\",result2)"
   ]
  },
  {
   "cell_type": "code",
   "execution_count": 19,
   "id": "69773e10",
   "metadata": {},
   "outputs": [
    {
     "data": {
      "text/plain": [
       "array([1., 1., 0., ..., 0., 1., 0.])"
      ]
     },
     "execution_count": 19,
     "metadata": {},
     "output_type": "execute_result"
    }
   ],
   "source": [
    "y_pred"
   ]
  },
  {
   "cell_type": "code",
   "execution_count": 20,
   "id": "16fd0ae9",
   "metadata": {},
   "outputs": [
    {
     "data": {
      "text/plain": [
       "84292     1.0\n",
       "36121     1.0\n",
       "77165     0.0\n",
       "71809     1.0\n",
       "51951     1.0\n",
       "         ... \n",
       "143101    1.0\n",
       "104057    1.0\n",
       "11042     0.0\n",
       "149436    1.0\n",
       "70960     0.0\n",
       "Name: skipped, Length: 16788, dtype: float64"
      ]
     },
     "execution_count": 20,
     "metadata": {},
     "output_type": "execute_result"
    }
   ],
   "source": [
    "y_test"
   ]
  },
  {
   "cell_type": "code",
   "execution_count": null,
   "id": "2d54433d",
   "metadata": {},
   "outputs": [],
   "source": []
  }
 ],
 "metadata": {
  "kernelspec": {
   "display_name": "Python 3 (ipykernel)",
   "language": "python",
   "name": "python3"
  },
  "language_info": {
   "codemirror_mode": {
    "name": "ipython",
    "version": 3
   },
   "file_extension": ".py",
   "mimetype": "text/x-python",
   "name": "python",
   "nbconvert_exporter": "python",
   "pygments_lexer": "ipython3",
   "version": "3.9.7"
  }
 },
 "nbformat": 4,
 "nbformat_minor": 5
}
