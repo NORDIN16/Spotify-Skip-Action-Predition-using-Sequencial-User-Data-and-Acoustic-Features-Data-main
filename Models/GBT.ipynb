{
 "cells": [
  {
   "cell_type": "markdown",
   "id": "da806eed",
   "metadata": {},
   "source": [
    "# Uploading the required data"
   ]
  },
  {
   "cell_type": "code",
   "execution_count": 1,
   "id": "1c9998cb",
   "metadata": {},
   "outputs": [],
   "source": [
    "import numpy as np\n",
    "import matplotlib.pyplot as plt\n",
    "import pandas as pd\n",
    "import sklearn\n",
    "import random\n",
    "from sklearn.ensemble import GradientBoostingClassifier\n",
    "random.seed(0)"
   ]
  },
  {
   "cell_type": "markdown",
   "id": "2a972afd",
   "metadata": {},
   "source": [
    "# Uploading the data"
   ]
  },
  {
   "cell_type": "code",
   "execution_count": 2,
   "id": "7d4556eb",
   "metadata": {},
   "outputs": [],
   "source": [
    "df = pd.read_csv('Best_accuaracy_data.csv')"
   ]
  },
  {
   "cell_type": "markdown",
   "id": "c43f9ad1",
   "metadata": {},
   "source": [
    "Removing useless data"
   ]
  },
  {
   "cell_type": "code",
   "execution_count": 3,
   "id": "292565a6",
   "metadata": {
    "scrolled": true
   },
   "outputs": [
    {
     "data": {
      "text/html": [
       "<div>\n",
       "<style scoped>\n",
       "    .dataframe tbody tr th:only-of-type {\n",
       "        vertical-align: middle;\n",
       "    }\n",
       "\n",
       "    .dataframe tbody tr th {\n",
       "        vertical-align: top;\n",
       "    }\n",
       "\n",
       "    .dataframe thead th {\n",
       "        text-align: right;\n",
       "    }\n",
       "</style>\n",
       "<table border=\"1\" class=\"dataframe\">\n",
       "  <thead>\n",
       "    <tr style=\"text-align: right;\">\n",
       "      <th></th>\n",
       "      <th>Unnamed: 0</th>\n",
       "      <th>skipped</th>\n",
       "      <th>session_length</th>\n",
       "      <th>short_pause_before_play</th>\n",
       "      <th>hist_user_behavior_n_seekfwd</th>\n",
       "      <th>hist_user_behavior_n_seekback</th>\n",
       "      <th>duration</th>\n",
       "      <th>release_year</th>\n",
       "      <th>us_popularity_estimate</th>\n",
       "      <th>beat_strength</th>\n",
       "      <th>...</th>\n",
       "      <th>start_backbtn</th>\n",
       "      <th>start_clickrow</th>\n",
       "      <th>start_endplay</th>\n",
       "      <th>start_fwdbtn</th>\n",
       "      <th>start_trackdone</th>\n",
       "      <th>end_backbtn</th>\n",
       "      <th>end_clickrow</th>\n",
       "      <th>end_endplay</th>\n",
       "      <th>end_fwdbtn</th>\n",
       "      <th>end_trackdone</th>\n",
       "    </tr>\n",
       "  </thead>\n",
       "  <tbody>\n",
       "    <tr>\n",
       "      <th>0</th>\n",
       "      <td>0</td>\n",
       "      <td>0.0</td>\n",
       "      <td>20.0</td>\n",
       "      <td>0.0</td>\n",
       "      <td>0.0</td>\n",
       "      <td>0.0</td>\n",
       "      <td>180.066666</td>\n",
       "      <td>2018.0</td>\n",
       "      <td>99.968133</td>\n",
       "      <td>0.438551</td>\n",
       "      <td>...</td>\n",
       "      <td>0.0</td>\n",
       "      <td>0.0</td>\n",
       "      <td>0.0</td>\n",
       "      <td>0.0</td>\n",
       "      <td>1.0</td>\n",
       "      <td>0.0</td>\n",
       "      <td>0.0</td>\n",
       "      <td>0.0</td>\n",
       "      <td>0.0</td>\n",
       "      <td>1.0</td>\n",
       "    </tr>\n",
       "    <tr>\n",
       "      <th>1</th>\n",
       "      <td>1</td>\n",
       "      <td>0.0</td>\n",
       "      <td>20.0</td>\n",
       "      <td>0.0</td>\n",
       "      <td>0.0</td>\n",
       "      <td>0.0</td>\n",
       "      <td>236.796371</td>\n",
       "      <td>2018.0</td>\n",
       "      <td>99.896728</td>\n",
       "      <td>0.654804</td>\n",
       "      <td>...</td>\n",
       "      <td>0.0</td>\n",
       "      <td>0.0</td>\n",
       "      <td>0.0</td>\n",
       "      <td>0.0</td>\n",
       "      <td>1.0</td>\n",
       "      <td>0.0</td>\n",
       "      <td>0.0</td>\n",
       "      <td>0.0</td>\n",
       "      <td>0.0</td>\n",
       "      <td>1.0</td>\n",
       "    </tr>\n",
       "    <tr>\n",
       "      <th>2</th>\n",
       "      <td>2</td>\n",
       "      <td>0.0</td>\n",
       "      <td>20.0</td>\n",
       "      <td>0.0</td>\n",
       "      <td>0.0</td>\n",
       "      <td>0.0</td>\n",
       "      <td>231.266663</td>\n",
       "      <td>2018.0</td>\n",
       "      <td>99.999976</td>\n",
       "      <td>0.532155</td>\n",
       "      <td>...</td>\n",
       "      <td>0.0</td>\n",
       "      <td>0.0</td>\n",
       "      <td>0.0</td>\n",
       "      <td>0.0</td>\n",
       "      <td>1.0</td>\n",
       "      <td>0.0</td>\n",
       "      <td>0.0</td>\n",
       "      <td>0.0</td>\n",
       "      <td>0.0</td>\n",
       "      <td>1.0</td>\n",
       "    </tr>\n",
       "    <tr>\n",
       "      <th>3</th>\n",
       "      <td>3</td>\n",
       "      <td>0.0</td>\n",
       "      <td>20.0</td>\n",
       "      <td>0.0</td>\n",
       "      <td>0.0</td>\n",
       "      <td>0.0</td>\n",
       "      <td>169.826675</td>\n",
       "      <td>2018.0</td>\n",
       "      <td>99.995038</td>\n",
       "      <td>0.641756</td>\n",
       "      <td>...</td>\n",
       "      <td>0.0</td>\n",
       "      <td>0.0</td>\n",
       "      <td>0.0</td>\n",
       "      <td>0.0</td>\n",
       "      <td>1.0</td>\n",
       "      <td>0.0</td>\n",
       "      <td>0.0</td>\n",
       "      <td>0.0</td>\n",
       "      <td>0.0</td>\n",
       "      <td>1.0</td>\n",
       "    </tr>\n",
       "    <tr>\n",
       "      <th>4</th>\n",
       "      <td>4</td>\n",
       "      <td>0.0</td>\n",
       "      <td>20.0</td>\n",
       "      <td>0.0</td>\n",
       "      <td>0.0</td>\n",
       "      <td>0.0</td>\n",
       "      <td>210.545258</td>\n",
       "      <td>2018.0</td>\n",
       "      <td>99.998498</td>\n",
       "      <td>0.732428</td>\n",
       "      <td>...</td>\n",
       "      <td>0.0</td>\n",
       "      <td>0.0</td>\n",
       "      <td>0.0</td>\n",
       "      <td>0.0</td>\n",
       "      <td>1.0</td>\n",
       "      <td>0.0</td>\n",
       "      <td>0.0</td>\n",
       "      <td>0.0</td>\n",
       "      <td>0.0</td>\n",
       "      <td>1.0</td>\n",
       "    </tr>\n",
       "  </tbody>\n",
       "</table>\n",
       "<p>5 rows × 40 columns</p>\n",
       "</div>"
      ],
      "text/plain": [
       "   Unnamed: 0  skipped  session_length  short_pause_before_play  \\\n",
       "0           0      0.0            20.0                      0.0   \n",
       "1           1      0.0            20.0                      0.0   \n",
       "2           2      0.0            20.0                      0.0   \n",
       "3           3      0.0            20.0                      0.0   \n",
       "4           4      0.0            20.0                      0.0   \n",
       "\n",
       "   hist_user_behavior_n_seekfwd  hist_user_behavior_n_seekback    duration  \\\n",
       "0                           0.0                            0.0  180.066666   \n",
       "1                           0.0                            0.0  236.796371   \n",
       "2                           0.0                            0.0  231.266663   \n",
       "3                           0.0                            0.0  169.826675   \n",
       "4                           0.0                            0.0  210.545258   \n",
       "\n",
       "   release_year  us_popularity_estimate  beat_strength  ...  start_backbtn  \\\n",
       "0        2018.0               99.968133       0.438551  ...            0.0   \n",
       "1        2018.0               99.896728       0.654804  ...            0.0   \n",
       "2        2018.0               99.999976       0.532155  ...            0.0   \n",
       "3        2018.0               99.995038       0.641756  ...            0.0   \n",
       "4        2018.0               99.998498       0.732428  ...            0.0   \n",
       "\n",
       "   start_clickrow  start_endplay  start_fwdbtn  start_trackdone  end_backbtn  \\\n",
       "0             0.0            0.0           0.0              1.0          0.0   \n",
       "1             0.0            0.0           0.0              1.0          0.0   \n",
       "2             0.0            0.0           0.0              1.0          0.0   \n",
       "3             0.0            0.0           0.0              1.0          0.0   \n",
       "4             0.0            0.0           0.0              1.0          0.0   \n",
       "\n",
       "   end_clickrow  end_endplay  end_fwdbtn  end_trackdone  \n",
       "0           0.0          0.0         0.0            1.0  \n",
       "1           0.0          0.0         0.0            1.0  \n",
       "2           0.0          0.0         0.0            1.0  \n",
       "3           0.0          0.0         0.0            1.0  \n",
       "4           0.0          0.0         0.0            1.0  \n",
       "\n",
       "[5 rows x 40 columns]"
      ]
     },
     "execution_count": 3,
     "metadata": {},
     "output_type": "execute_result"
    }
   ],
   "source": [
    "df.head()"
   ]
  },
  {
   "cell_type": "code",
   "execution_count": 4,
   "id": "b5879bcf",
   "metadata": {},
   "outputs": [
    {
     "data": {
      "text/plain": [
       "Unnamed: 0                        200.000000\n",
       "skipped                             1.000000\n",
       "session_length                     20.000000\n",
       "short_pause_before_play             0.000000\n",
       "hist_user_behavior_n_seekfwd        0.000000\n",
       "hist_user_behavior_n_seekback       0.000000\n",
       "duration                          247.893326\n",
       "release_year                     2000.000000\n",
       "us_popularity_estimate             99.988437\n",
       "beat_strength                       0.728445\n",
       "danceability                        0.765248\n",
       "energy                              0.512252\n",
       "flatness                            1.043910\n",
       "loudness                           -5.673000\n",
       "organism                            0.257597\n",
       "speechiness                         0.032674\n",
       "tempo                              90.335999\n",
       "time_signature                      4.000000\n",
       "valence                             0.759230\n",
       "acoustic_vector_0                  -0.477347\n",
       "acoustic_vector_1                   0.131895\n",
       "acoustic_vector_4                   0.715050\n",
       "acoustic_vector_6                   0.839261\n",
       "acoustic_vector_7                  -0.060820\n",
       "weekday                             7.000000\n",
       "catalog                             0.000000\n",
       "editorial_playlist                  0.000000\n",
       "False                               0.000000\n",
       "True                                1.000000\n",
       "major                               0.000000\n",
       "start_backbtn                       1.000000\n",
       "start_clickrow                      0.000000\n",
       "start_endplay                       0.000000\n",
       "start_fwdbtn                        0.000000\n",
       "start_trackdone                     0.000000\n",
       "end_backbtn                         1.000000\n",
       "end_clickrow                        0.000000\n",
       "end_endplay                         0.000000\n",
       "end_fwdbtn                          0.000000\n",
       "end_trackdone                       0.000000\n",
       "Name: 200, dtype: float64"
      ]
     },
     "execution_count": 4,
     "metadata": {},
     "output_type": "execute_result"
    }
   ],
   "source": [
    "df.iloc[200]"
   ]
  },
  {
   "cell_type": "code",
   "execution_count": 5,
   "id": "0bc8e656",
   "metadata": {},
   "outputs": [],
   "source": [
    "columns = [col for col in df.columns]\n",
    "\n",
    "# Converting column types of .astype in a for loop\n",
    "for col in columns:\n",
    "  \n",
    "  df[col] = pd.to_numeric(df[col], errors='coerce')\n",
    "  df[col] = df[col].astype(float)"
   ]
  },
  {
   "cell_type": "code",
   "execution_count": 6,
   "id": "680660b9",
   "metadata": {},
   "outputs": [
    {
     "data": {
      "text/html": [
       "<div>\n",
       "<style scoped>\n",
       "    .dataframe tbody tr th:only-of-type {\n",
       "        vertical-align: middle;\n",
       "    }\n",
       "\n",
       "    .dataframe tbody tr th {\n",
       "        vertical-align: top;\n",
       "    }\n",
       "\n",
       "    .dataframe thead th {\n",
       "        text-align: right;\n",
       "    }\n",
       "</style>\n",
       "<table border=\"1\" class=\"dataframe\">\n",
       "  <thead>\n",
       "    <tr style=\"text-align: right;\">\n",
       "      <th></th>\n",
       "      <th>Unnamed: 0</th>\n",
       "      <th>skipped</th>\n",
       "      <th>session_length</th>\n",
       "      <th>short_pause_before_play</th>\n",
       "      <th>hist_user_behavior_n_seekfwd</th>\n",
       "      <th>hist_user_behavior_n_seekback</th>\n",
       "      <th>duration</th>\n",
       "      <th>release_year</th>\n",
       "      <th>us_popularity_estimate</th>\n",
       "      <th>beat_strength</th>\n",
       "      <th>...</th>\n",
       "      <th>start_backbtn</th>\n",
       "      <th>start_clickrow</th>\n",
       "      <th>start_endplay</th>\n",
       "      <th>start_fwdbtn</th>\n",
       "      <th>start_trackdone</th>\n",
       "      <th>end_backbtn</th>\n",
       "      <th>end_clickrow</th>\n",
       "      <th>end_endplay</th>\n",
       "      <th>end_fwdbtn</th>\n",
       "      <th>end_trackdone</th>\n",
       "    </tr>\n",
       "  </thead>\n",
       "  <tbody>\n",
       "    <tr>\n",
       "      <th>0</th>\n",
       "      <td>0.0</td>\n",
       "      <td>0.0</td>\n",
       "      <td>20.0</td>\n",
       "      <td>0.0</td>\n",
       "      <td>0.0</td>\n",
       "      <td>0.0</td>\n",
       "      <td>180.066666</td>\n",
       "      <td>2018.0</td>\n",
       "      <td>99.968133</td>\n",
       "      <td>0.438551</td>\n",
       "      <td>...</td>\n",
       "      <td>0.0</td>\n",
       "      <td>0.0</td>\n",
       "      <td>0.0</td>\n",
       "      <td>0.0</td>\n",
       "      <td>1.0</td>\n",
       "      <td>0.0</td>\n",
       "      <td>0.0</td>\n",
       "      <td>0.0</td>\n",
       "      <td>0.0</td>\n",
       "      <td>1.0</td>\n",
       "    </tr>\n",
       "    <tr>\n",
       "      <th>1</th>\n",
       "      <td>1.0</td>\n",
       "      <td>0.0</td>\n",
       "      <td>20.0</td>\n",
       "      <td>0.0</td>\n",
       "      <td>0.0</td>\n",
       "      <td>0.0</td>\n",
       "      <td>236.796371</td>\n",
       "      <td>2018.0</td>\n",
       "      <td>99.896728</td>\n",
       "      <td>0.654804</td>\n",
       "      <td>...</td>\n",
       "      <td>0.0</td>\n",
       "      <td>0.0</td>\n",
       "      <td>0.0</td>\n",
       "      <td>0.0</td>\n",
       "      <td>1.0</td>\n",
       "      <td>0.0</td>\n",
       "      <td>0.0</td>\n",
       "      <td>0.0</td>\n",
       "      <td>0.0</td>\n",
       "      <td>1.0</td>\n",
       "    </tr>\n",
       "  </tbody>\n",
       "</table>\n",
       "<p>2 rows × 40 columns</p>\n",
       "</div>"
      ],
      "text/plain": [
       "   Unnamed: 0  skipped  session_length  short_pause_before_play  \\\n",
       "0         0.0      0.0            20.0                      0.0   \n",
       "1         1.0      0.0            20.0                      0.0   \n",
       "\n",
       "   hist_user_behavior_n_seekfwd  hist_user_behavior_n_seekback    duration  \\\n",
       "0                           0.0                            0.0  180.066666   \n",
       "1                           0.0                            0.0  236.796371   \n",
       "\n",
       "   release_year  us_popularity_estimate  beat_strength  ...  start_backbtn  \\\n",
       "0        2018.0               99.968133       0.438551  ...            0.0   \n",
       "1        2018.0               99.896728       0.654804  ...            0.0   \n",
       "\n",
       "   start_clickrow  start_endplay  start_fwdbtn  start_trackdone  end_backbtn  \\\n",
       "0             0.0            0.0           0.0              1.0          0.0   \n",
       "1             0.0            0.0           0.0              1.0          0.0   \n",
       "\n",
       "   end_clickrow  end_endplay  end_fwdbtn  end_trackdone  \n",
       "0           0.0          0.0         0.0            1.0  \n",
       "1           0.0          0.0         0.0            1.0  \n",
       "\n",
       "[2 rows x 40 columns]"
      ]
     },
     "execution_count": 6,
     "metadata": {},
     "output_type": "execute_result"
    }
   ],
   "source": [
    "df.head(2)"
   ]
  },
  {
   "cell_type": "code",
   "execution_count": 7,
   "id": "aa52d678",
   "metadata": {},
   "outputs": [
    {
     "name": "stdout",
     "output_type": "stream",
     "text": [
      "<class 'pandas.core.frame.DataFrame'>\n",
      "RangeIndex: 167880 entries, 0 to 167879\n",
      "Data columns (total 40 columns):\n",
      " #   Column                         Non-Null Count   Dtype  \n",
      "---  ------                         --------------   -----  \n",
      " 0   Unnamed: 0                     167880 non-null  float64\n",
      " 1   skipped                        167880 non-null  float64\n",
      " 2   session_length                 167880 non-null  float64\n",
      " 3   short_pause_before_play        167880 non-null  float64\n",
      " 4   hist_user_behavior_n_seekfwd   167880 non-null  float64\n",
      " 5   hist_user_behavior_n_seekback  167880 non-null  float64\n",
      " 6   duration                       167880 non-null  float64\n",
      " 7   release_year                   167880 non-null  float64\n",
      " 8   us_popularity_estimate         167880 non-null  float64\n",
      " 9   beat_strength                  167880 non-null  float64\n",
      " 10  danceability                   167880 non-null  float64\n",
      " 11  energy                         167880 non-null  float64\n",
      " 12  flatness                       167880 non-null  float64\n",
      " 13  loudness                       167880 non-null  float64\n",
      " 14  organism                       167880 non-null  float64\n",
      " 15  speechiness                    167880 non-null  float64\n",
      " 16  tempo                          167880 non-null  float64\n",
      " 17  time_signature                 167880 non-null  float64\n",
      " 18  valence                        167880 non-null  float64\n",
      " 19  acoustic_vector_0              167880 non-null  float64\n",
      " 20  acoustic_vector_1              167880 non-null  float64\n",
      " 21  acoustic_vector_4              167880 non-null  float64\n",
      " 22  acoustic_vector_6              167880 non-null  float64\n",
      " 23  acoustic_vector_7              167880 non-null  float64\n",
      " 24  weekday                        167880 non-null  float64\n",
      " 25  catalog                        167880 non-null  float64\n",
      " 26  editorial_playlist             167880 non-null  float64\n",
      " 27  False                          167880 non-null  float64\n",
      " 28  True                           167880 non-null  float64\n",
      " 29  major                          167880 non-null  float64\n",
      " 30  start_backbtn                  167880 non-null  float64\n",
      " 31  start_clickrow                 167880 non-null  float64\n",
      " 32  start_endplay                  167880 non-null  float64\n",
      " 33  start_fwdbtn                   167880 non-null  float64\n",
      " 34  start_trackdone                167880 non-null  float64\n",
      " 35  end_backbtn                    167880 non-null  float64\n",
      " 36  end_clickrow                   167880 non-null  float64\n",
      " 37  end_endplay                    167880 non-null  float64\n",
      " 38  end_fwdbtn                     167880 non-null  float64\n",
      " 39  end_trackdone                  167880 non-null  float64\n",
      "dtypes: float64(40)\n",
      "memory usage: 51.2 MB\n"
     ]
    }
   ],
   "source": [
    "df.info()"
   ]
  },
  {
   "cell_type": "markdown",
   "id": "750b09c4",
   "metadata": {},
   "source": [
    "# GBT Classifier"
   ]
  },
  {
   "cell_type": "markdown",
   "id": "1777af98",
   "metadata": {},
   "source": [
    "Data Preprocessing will be done with the help of following script lines.\n",
    "\n"
   ]
  },
  {
   "cell_type": "code",
   "execution_count": 8,
   "id": "9da8047f",
   "metadata": {},
   "outputs": [],
   "source": [
    "X = df[['session_length', 'end_trackdone']]\n",
    "y = df[['skipped']]"
   ]
  },
  {
   "cell_type": "code",
   "execution_count": 9,
   "id": "ae90f43d",
   "metadata": {},
   "outputs": [],
   "source": [
    "X = pd.get_dummies(X)"
   ]
  },
  {
   "cell_type": "markdown",
   "id": "689e3649",
   "metadata": {},
   "source": [
    "Next, we will divide the data into train and test split. Following code will split the dataset into 90% training data and 10% of testing data −"
   ]
  },
  {
   "cell_type": "code",
   "execution_count": 10,
   "id": "7088809f",
   "metadata": {},
   "outputs": [],
   "source": [
    "from sklearn.model_selection import train_test_split\n",
    "X_train, X_test, y_train, y_test = train_test_split(X, y, test_size = 0.1, random_state = 30)"
   ]
  },
  {
   "cell_type": "markdown",
   "id": "d77e1752",
   "metadata": {},
   "source": [
    "Next, data scaling will be done as follows −\n",
    "\n"
   ]
  },
  {
   "cell_type": "code",
   "execution_count": 11,
   "id": "1186f640",
   "metadata": {},
   "outputs": [],
   "source": [
    "from sklearn.preprocessing import StandardScaler\n",
    "scaler = StandardScaler()\n",
    "scaler.fit(X_train)\n",
    "X_train = scaler.transform(X_train)\n",
    "X_test = scaler.transform(X_test)"
   ]
  },
  {
   "cell_type": "markdown",
   "id": "7acdd2c9",
   "metadata": {},
   "source": [
    "Next, train the model with the help of GBT class of sklearn as follows −\n",
    "\n"
   ]
  },
  {
   "cell_type": "code",
   "execution_count": 12,
   "id": "306ce94e",
   "metadata": {},
   "outputs": [
    {
     "name": "stderr",
     "output_type": "stream",
     "text": [
      "C:\\Users\\Noureddine\\anaconda3\\lib\\site-packages\\sklearn\\utils\\validation.py:63: DataConversionWarning: A column-vector y was passed when a 1d array was expected. Please change the shape of y to (n_samples, ), for example using ravel().\n",
      "  return f(*args, **kwargs)\n"
     ]
    },
    {
     "data": {
      "text/plain": [
       "GradientBoostingClassifier()"
      ]
     },
     "execution_count": 12,
     "metadata": {},
     "output_type": "execute_result"
    }
   ],
   "source": [
    "#Import GBT model\n",
    "from sklearn.ensemble import GradientBoostingClassifier\n",
    "\n",
    "#Create a GBT Classifier\n",
    "gradient_booster = GradientBoostingClassifier(learning_rate=0.1)\n",
    "\n",
    "#Train the model using the training sets\n",
    "gradient_booster.fit(X_train, y_train)"
   ]
  },
  {
   "cell_type": "markdown",
   "id": "100306e5",
   "metadata": {},
   "source": [
    "At last we need to make prediction. It can be done with the help of following script −\n",
    "\n"
   ]
  },
  {
   "cell_type": "code",
   "execution_count": 13,
   "id": "1c026383",
   "metadata": {},
   "outputs": [],
   "source": [
    "y_pred = gradient_booster.predict(X_test)\n"
   ]
  },
  {
   "cell_type": "markdown",
   "id": "91963632",
   "metadata": {},
   "source": [
    "Next, print the results as follows −\n",
    "\n"
   ]
  },
  {
   "cell_type": "code",
   "execution_count": 14,
   "id": "bdba1eac",
   "metadata": {},
   "outputs": [
    {
     "name": "stdout",
     "output_type": "stream",
     "text": [
      "Confusion Matrix:\n",
      "[[ 5595   253]\n",
      " [  116 10824]]\n",
      "Classification Report:\n",
      "              precision    recall  f1-score   support\n",
      "\n",
      "         0.0       0.98      0.96      0.97      5848\n",
      "         1.0       0.98      0.99      0.98     10940\n",
      "\n",
      "    accuracy                           0.98     16788\n",
      "   macro avg       0.98      0.97      0.98     16788\n",
      "weighted avg       0.98      0.98      0.98     16788\n",
      "\n",
      "Accuracy: 0.9780200142959257\n"
     ]
    }
   ],
   "source": [
    "from sklearn.metrics import classification_report, confusion_matrix, accuracy_score\n",
    "result = confusion_matrix(y_test, y_pred)\n",
    "print(\"Confusion Matrix:\")\n",
    "print(result)\n",
    "result1 = classification_report(y_test, y_pred)\n",
    "print(\"Classification Report:\",)\n",
    "print (result1)\n",
    "result2 = accuracy_score(y_test,y_pred)\n",
    "print(\"Accuracy:\",result2)"
   ]
  },
  {
   "cell_type": "code",
   "execution_count": 15,
   "id": "69773e10",
   "metadata": {},
   "outputs": [
    {
     "data": {
      "text/plain": [
       "array([1., 1., 0., ..., 0., 1., 0.])"
      ]
     },
     "execution_count": 15,
     "metadata": {},
     "output_type": "execute_result"
    }
   ],
   "source": [
    "y_pred"
   ]
  },
  {
   "cell_type": "code",
   "execution_count": 16,
   "id": "16fd0ae9",
   "metadata": {},
   "outputs": [
    {
     "data": {
      "text/html": [
       "<div>\n",
       "<style scoped>\n",
       "    .dataframe tbody tr th:only-of-type {\n",
       "        vertical-align: middle;\n",
       "    }\n",
       "\n",
       "    .dataframe tbody tr th {\n",
       "        vertical-align: top;\n",
       "    }\n",
       "\n",
       "    .dataframe thead th {\n",
       "        text-align: right;\n",
       "    }\n",
       "</style>\n",
       "<table border=\"1\" class=\"dataframe\">\n",
       "  <thead>\n",
       "    <tr style=\"text-align: right;\">\n",
       "      <th></th>\n",
       "      <th>skipped</th>\n",
       "    </tr>\n",
       "  </thead>\n",
       "  <tbody>\n",
       "    <tr>\n",
       "      <th>84292</th>\n",
       "      <td>1.0</td>\n",
       "    </tr>\n",
       "    <tr>\n",
       "      <th>36121</th>\n",
       "      <td>1.0</td>\n",
       "    </tr>\n",
       "    <tr>\n",
       "      <th>77165</th>\n",
       "      <td>0.0</td>\n",
       "    </tr>\n",
       "    <tr>\n",
       "      <th>71809</th>\n",
       "      <td>1.0</td>\n",
       "    </tr>\n",
       "    <tr>\n",
       "      <th>51951</th>\n",
       "      <td>1.0</td>\n",
       "    </tr>\n",
       "    <tr>\n",
       "      <th>...</th>\n",
       "      <td>...</td>\n",
       "    </tr>\n",
       "    <tr>\n",
       "      <th>143101</th>\n",
       "      <td>1.0</td>\n",
       "    </tr>\n",
       "    <tr>\n",
       "      <th>104057</th>\n",
       "      <td>1.0</td>\n",
       "    </tr>\n",
       "    <tr>\n",
       "      <th>11042</th>\n",
       "      <td>0.0</td>\n",
       "    </tr>\n",
       "    <tr>\n",
       "      <th>149436</th>\n",
       "      <td>1.0</td>\n",
       "    </tr>\n",
       "    <tr>\n",
       "      <th>70960</th>\n",
       "      <td>0.0</td>\n",
       "    </tr>\n",
       "  </tbody>\n",
       "</table>\n",
       "<p>16788 rows × 1 columns</p>\n",
       "</div>"
      ],
      "text/plain": [
       "        skipped\n",
       "84292       1.0\n",
       "36121       1.0\n",
       "77165       0.0\n",
       "71809       1.0\n",
       "51951       1.0\n",
       "...         ...\n",
       "143101      1.0\n",
       "104057      1.0\n",
       "11042       0.0\n",
       "149436      1.0\n",
       "70960       0.0\n",
       "\n",
       "[16788 rows x 1 columns]"
      ]
     },
     "execution_count": 16,
     "metadata": {},
     "output_type": "execute_result"
    }
   ],
   "source": [
    "y_test"
   ]
  },
  {
   "cell_type": "code",
   "execution_count": 17,
   "id": "2d54433d",
   "metadata": {},
   "outputs": [
    {
     "data": {
      "text/plain": [
       "Index(['Unnamed: 0', 'skipped', 'session_length', 'short_pause_before_play',\n",
       "       'hist_user_behavior_n_seekfwd', 'hist_user_behavior_n_seekback',\n",
       "       'duration', 'release_year', 'us_popularity_estimate', 'beat_strength',\n",
       "       'danceability', 'energy', 'flatness', 'loudness', 'organism',\n",
       "       'speechiness', 'tempo', 'time_signature', 'valence',\n",
       "       'acoustic_vector_0', 'acoustic_vector_1', 'acoustic_vector_4',\n",
       "       'acoustic_vector_6', 'acoustic_vector_7', 'weekday', 'catalog',\n",
       "       'editorial_playlist', 'False', 'True', 'major', 'start_backbtn',\n",
       "       'start_clickrow', 'start_endplay', 'start_fwdbtn', 'start_trackdone',\n",
       "       'end_backbtn', 'end_clickrow', 'end_endplay', 'end_fwdbtn',\n",
       "       'end_trackdone'],\n",
       "      dtype='object')"
      ]
     },
     "execution_count": 17,
     "metadata": {},
     "output_type": "execute_result"
    }
   ],
   "source": [
    "df.columns"
   ]
  },
  {
   "cell_type": "code",
   "execution_count": 18,
   "id": "d2d9e7ad",
   "metadata": {},
   "outputs": [],
   "source": [
    "import pickle\n",
    "# save the model to disk\n",
    "filename = 'finalized_model.sav'\n",
    "pickle.dump(gradient_booster, open('model.plk', 'wb'))"
   ]
  }
 ],
 "metadata": {
  "kernelspec": {
   "display_name": "Python 3 (ipykernel)",
   "language": "python",
   "name": "python3"
  },
  "language_info": {
   "codemirror_mode": {
    "name": "ipython",
    "version": 3
   },
   "file_extension": ".py",
   "mimetype": "text/x-python",
   "name": "python",
   "nbconvert_exporter": "python",
   "pygments_lexer": "ipython3",
   "version": "3.9.7"
  }
 },
 "nbformat": 4,
 "nbformat_minor": 5
}
