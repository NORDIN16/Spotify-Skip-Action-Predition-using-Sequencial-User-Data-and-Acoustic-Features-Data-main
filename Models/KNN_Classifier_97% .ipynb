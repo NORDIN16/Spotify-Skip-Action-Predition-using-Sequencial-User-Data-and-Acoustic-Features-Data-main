{
 "cells": [
  {
   "cell_type": "markdown",
   "id": "da806eed",
   "metadata": {},
   "source": [
    "# Uploading the required data"
   ]
  },
  {
   "cell_type": "code",
   "execution_count": 1,
   "id": "1c9998cb",
   "metadata": {},
   "outputs": [],
   "source": [
    "import numpy as np\n",
    "import matplotlib.pyplot as plt\n",
    "import pandas as pd\n",
    "import sklearn\n",
    "import random\n",
    "random.seed(0)"
   ]
  },
  {
   "cell_type": "markdown",
   "id": "2a972afd",
   "metadata": {},
   "source": [
    "# Uploading the data"
   ]
  },
  {
   "cell_type": "code",
   "execution_count": 2,
   "id": "7d4556eb",
   "metadata": {},
   "outputs": [],
   "source": [
    "df = pd.read_csv('Best_accuaracy_data.csv')"
   ]
  },
  {
   "cell_type": "markdown",
   "id": "c43f9ad1",
   "metadata": {},
   "source": [
    "Removing useless data"
   ]
  },
  {
   "cell_type": "code",
   "execution_count": 3,
   "id": "bc9ce3e4",
   "metadata": {},
   "outputs": [],
   "source": [
    "df.drop(['Unnamed: 0', 'release_year', 'catalog', 'editorial_playlist', 'False', 'weekday', 'True',\n",
    "        'major', 'time_signature', 'start_endplay', 'end_clickrow', 'start_backbtn'], axis=1, inplace = True)"
   ]
  },
  {
   "cell_type": "code",
   "execution_count": 4,
   "id": "292565a6",
   "metadata": {
    "scrolled": true
   },
   "outputs": [
    {
     "data": {
      "text/html": [
       "<div>\n",
       "<style scoped>\n",
       "    .dataframe tbody tr th:only-of-type {\n",
       "        vertical-align: middle;\n",
       "    }\n",
       "\n",
       "    .dataframe tbody tr th {\n",
       "        vertical-align: top;\n",
       "    }\n",
       "\n",
       "    .dataframe thead th {\n",
       "        text-align: right;\n",
       "    }\n",
       "</style>\n",
       "<table border=\"1\" class=\"dataframe\">\n",
       "  <thead>\n",
       "    <tr style=\"text-align: right;\">\n",
       "      <th></th>\n",
       "      <th>skipped</th>\n",
       "      <th>session_length</th>\n",
       "      <th>short_pause_before_play</th>\n",
       "      <th>hist_user_behavior_n_seekfwd</th>\n",
       "      <th>hist_user_behavior_n_seekback</th>\n",
       "      <th>duration</th>\n",
       "      <th>us_popularity_estimate</th>\n",
       "      <th>beat_strength</th>\n",
       "      <th>danceability</th>\n",
       "      <th>energy</th>\n",
       "      <th>...</th>\n",
       "      <th>acoustic_vector_4</th>\n",
       "      <th>acoustic_vector_6</th>\n",
       "      <th>acoustic_vector_7</th>\n",
       "      <th>start_clickrow</th>\n",
       "      <th>start_fwdbtn</th>\n",
       "      <th>start_trackdone</th>\n",
       "      <th>end_backbtn</th>\n",
       "      <th>end_endplay</th>\n",
       "      <th>end_fwdbtn</th>\n",
       "      <th>end_trackdone</th>\n",
       "    </tr>\n",
       "  </thead>\n",
       "  <tbody>\n",
       "    <tr>\n",
       "      <th>0</th>\n",
       "      <td>0.0</td>\n",
       "      <td>20.0</td>\n",
       "      <td>0.0</td>\n",
       "      <td>0.0</td>\n",
       "      <td>0.0</td>\n",
       "      <td>180.066666</td>\n",
       "      <td>99.968133</td>\n",
       "      <td>0.438551</td>\n",
       "      <td>0.653119</td>\n",
       "      <td>0.553465</td>\n",
       "      <td>...</td>\n",
       "      <td>-0.333373</td>\n",
       "      <td>-0.353590</td>\n",
       "      <td>0.205826</td>\n",
       "      <td>0.0</td>\n",
       "      <td>0.0</td>\n",
       "      <td>1.0</td>\n",
       "      <td>0.0</td>\n",
       "      <td>0.0</td>\n",
       "      <td>0.0</td>\n",
       "      <td>1.0</td>\n",
       "    </tr>\n",
       "    <tr>\n",
       "      <th>1</th>\n",
       "      <td>0.0</td>\n",
       "      <td>20.0</td>\n",
       "      <td>0.0</td>\n",
       "      <td>0.0</td>\n",
       "      <td>0.0</td>\n",
       "      <td>236.796371</td>\n",
       "      <td>99.896728</td>\n",
       "      <td>0.654804</td>\n",
       "      <td>0.877393</td>\n",
       "      <td>0.726828</td>\n",
       "      <td>...</td>\n",
       "      <td>-0.383164</td>\n",
       "      <td>-0.365308</td>\n",
       "      <td>0.157920</td>\n",
       "      <td>0.0</td>\n",
       "      <td>0.0</td>\n",
       "      <td>1.0</td>\n",
       "      <td>0.0</td>\n",
       "      <td>0.0</td>\n",
       "      <td>0.0</td>\n",
       "      <td>1.0</td>\n",
       "    </tr>\n",
       "    <tr>\n",
       "      <th>2</th>\n",
       "      <td>0.0</td>\n",
       "      <td>20.0</td>\n",
       "      <td>0.0</td>\n",
       "      <td>0.0</td>\n",
       "      <td>0.0</td>\n",
       "      <td>231.266663</td>\n",
       "      <td>99.999976</td>\n",
       "      <td>0.532155</td>\n",
       "      <td>0.679719</td>\n",
       "      <td>0.563009</td>\n",
       "      <td>...</td>\n",
       "      <td>-0.299745</td>\n",
       "      <td>-0.486689</td>\n",
       "      <td>0.181604</td>\n",
       "      <td>0.0</td>\n",
       "      <td>0.0</td>\n",
       "      <td>1.0</td>\n",
       "      <td>0.0</td>\n",
       "      <td>0.0</td>\n",
       "      <td>0.0</td>\n",
       "      <td>1.0</td>\n",
       "    </tr>\n",
       "    <tr>\n",
       "      <th>3</th>\n",
       "      <td>0.0</td>\n",
       "      <td>20.0</td>\n",
       "      <td>0.0</td>\n",
       "      <td>0.0</td>\n",
       "      <td>0.0</td>\n",
       "      <td>169.826675</td>\n",
       "      <td>99.995038</td>\n",
       "      <td>0.641756</td>\n",
       "      <td>0.864881</td>\n",
       "      <td>0.529484</td>\n",
       "      <td>...</td>\n",
       "      <td>-0.393358</td>\n",
       "      <td>-0.364418</td>\n",
       "      <td>0.285603</td>\n",
       "      <td>0.0</td>\n",
       "      <td>0.0</td>\n",
       "      <td>1.0</td>\n",
       "      <td>0.0</td>\n",
       "      <td>0.0</td>\n",
       "      <td>0.0</td>\n",
       "      <td>1.0</td>\n",
       "    </tr>\n",
       "    <tr>\n",
       "      <th>4</th>\n",
       "      <td>0.0</td>\n",
       "      <td>20.0</td>\n",
       "      <td>0.0</td>\n",
       "      <td>0.0</td>\n",
       "      <td>0.0</td>\n",
       "      <td>210.545258</td>\n",
       "      <td>99.998498</td>\n",
       "      <td>0.732428</td>\n",
       "      <td>0.857778</td>\n",
       "      <td>0.650057</td>\n",
       "      <td>...</td>\n",
       "      <td>-0.333287</td>\n",
       "      <td>-0.510350</td>\n",
       "      <td>0.182315</td>\n",
       "      <td>0.0</td>\n",
       "      <td>0.0</td>\n",
       "      <td>1.0</td>\n",
       "      <td>0.0</td>\n",
       "      <td>0.0</td>\n",
       "      <td>0.0</td>\n",
       "      <td>1.0</td>\n",
       "    </tr>\n",
       "  </tbody>\n",
       "</table>\n",
       "<p>5 rows × 28 columns</p>\n",
       "</div>"
      ],
      "text/plain": [
       "   skipped  session_length  short_pause_before_play  \\\n",
       "0      0.0            20.0                      0.0   \n",
       "1      0.0            20.0                      0.0   \n",
       "2      0.0            20.0                      0.0   \n",
       "3      0.0            20.0                      0.0   \n",
       "4      0.0            20.0                      0.0   \n",
       "\n",
       "   hist_user_behavior_n_seekfwd  hist_user_behavior_n_seekback    duration  \\\n",
       "0                           0.0                            0.0  180.066666   \n",
       "1                           0.0                            0.0  236.796371   \n",
       "2                           0.0                            0.0  231.266663   \n",
       "3                           0.0                            0.0  169.826675   \n",
       "4                           0.0                            0.0  210.545258   \n",
       "\n",
       "   us_popularity_estimate  beat_strength  danceability    energy  ...  \\\n",
       "0               99.968133       0.438551      0.653119  0.553465  ...   \n",
       "1               99.896728       0.654804      0.877393  0.726828  ...   \n",
       "2               99.999976       0.532155      0.679719  0.563009  ...   \n",
       "3               99.995038       0.641756      0.864881  0.529484  ...   \n",
       "4               99.998498       0.732428      0.857778  0.650057  ...   \n",
       "\n",
       "   acoustic_vector_4  acoustic_vector_6  acoustic_vector_7  start_clickrow  \\\n",
       "0          -0.333373          -0.353590           0.205826             0.0   \n",
       "1          -0.383164          -0.365308           0.157920             0.0   \n",
       "2          -0.299745          -0.486689           0.181604             0.0   \n",
       "3          -0.393358          -0.364418           0.285603             0.0   \n",
       "4          -0.333287          -0.510350           0.182315             0.0   \n",
       "\n",
       "   start_fwdbtn  start_trackdone  end_backbtn  end_endplay  end_fwdbtn  \\\n",
       "0           0.0              1.0          0.0          0.0         0.0   \n",
       "1           0.0              1.0          0.0          0.0         0.0   \n",
       "2           0.0              1.0          0.0          0.0         0.0   \n",
       "3           0.0              1.0          0.0          0.0         0.0   \n",
       "4           0.0              1.0          0.0          0.0         0.0   \n",
       "\n",
       "   end_trackdone  \n",
       "0            1.0  \n",
       "1            1.0  \n",
       "2            1.0  \n",
       "3            1.0  \n",
       "4            1.0  \n",
       "\n",
       "[5 rows x 28 columns]"
      ]
     },
     "execution_count": 4,
     "metadata": {},
     "output_type": "execute_result"
    }
   ],
   "source": [
    "df.head()"
   ]
  },
  {
   "cell_type": "code",
   "execution_count": 5,
   "id": "0bc8e656",
   "metadata": {},
   "outputs": [],
   "source": [
    "columns = [col for col in df.columns]\n",
    "\n",
    "# Converting column types of .astype in a for loop\n",
    "for col in columns:\n",
    "  \n",
    "  df[col] = pd.to_numeric(df[col], errors='coerce')\n",
    "  df[col] = df[col].astype(float)"
   ]
  },
  {
   "cell_type": "code",
   "execution_count": 6,
   "id": "680660b9",
   "metadata": {},
   "outputs": [
    {
     "data": {
      "text/html": [
       "<div>\n",
       "<style scoped>\n",
       "    .dataframe tbody tr th:only-of-type {\n",
       "        vertical-align: middle;\n",
       "    }\n",
       "\n",
       "    .dataframe tbody tr th {\n",
       "        vertical-align: top;\n",
       "    }\n",
       "\n",
       "    .dataframe thead th {\n",
       "        text-align: right;\n",
       "    }\n",
       "</style>\n",
       "<table border=\"1\" class=\"dataframe\">\n",
       "  <thead>\n",
       "    <tr style=\"text-align: right;\">\n",
       "      <th></th>\n",
       "      <th>skipped</th>\n",
       "      <th>session_length</th>\n",
       "      <th>short_pause_before_play</th>\n",
       "      <th>hist_user_behavior_n_seekfwd</th>\n",
       "      <th>hist_user_behavior_n_seekback</th>\n",
       "      <th>duration</th>\n",
       "      <th>us_popularity_estimate</th>\n",
       "      <th>beat_strength</th>\n",
       "      <th>danceability</th>\n",
       "      <th>energy</th>\n",
       "      <th>...</th>\n",
       "      <th>acoustic_vector_4</th>\n",
       "      <th>acoustic_vector_6</th>\n",
       "      <th>acoustic_vector_7</th>\n",
       "      <th>start_clickrow</th>\n",
       "      <th>start_fwdbtn</th>\n",
       "      <th>start_trackdone</th>\n",
       "      <th>end_backbtn</th>\n",
       "      <th>end_endplay</th>\n",
       "      <th>end_fwdbtn</th>\n",
       "      <th>end_trackdone</th>\n",
       "    </tr>\n",
       "  </thead>\n",
       "  <tbody>\n",
       "    <tr>\n",
       "      <th>0</th>\n",
       "      <td>0.0</td>\n",
       "      <td>20.0</td>\n",
       "      <td>0.0</td>\n",
       "      <td>0.0</td>\n",
       "      <td>0.0</td>\n",
       "      <td>180.066666</td>\n",
       "      <td>99.968133</td>\n",
       "      <td>0.438551</td>\n",
       "      <td>0.653119</td>\n",
       "      <td>0.553465</td>\n",
       "      <td>...</td>\n",
       "      <td>-0.333373</td>\n",
       "      <td>-0.353590</td>\n",
       "      <td>0.205826</td>\n",
       "      <td>0.0</td>\n",
       "      <td>0.0</td>\n",
       "      <td>1.0</td>\n",
       "      <td>0.0</td>\n",
       "      <td>0.0</td>\n",
       "      <td>0.0</td>\n",
       "      <td>1.0</td>\n",
       "    </tr>\n",
       "    <tr>\n",
       "      <th>1</th>\n",
       "      <td>0.0</td>\n",
       "      <td>20.0</td>\n",
       "      <td>0.0</td>\n",
       "      <td>0.0</td>\n",
       "      <td>0.0</td>\n",
       "      <td>236.796371</td>\n",
       "      <td>99.896728</td>\n",
       "      <td>0.654804</td>\n",
       "      <td>0.877393</td>\n",
       "      <td>0.726828</td>\n",
       "      <td>...</td>\n",
       "      <td>-0.383164</td>\n",
       "      <td>-0.365308</td>\n",
       "      <td>0.157920</td>\n",
       "      <td>0.0</td>\n",
       "      <td>0.0</td>\n",
       "      <td>1.0</td>\n",
       "      <td>0.0</td>\n",
       "      <td>0.0</td>\n",
       "      <td>0.0</td>\n",
       "      <td>1.0</td>\n",
       "    </tr>\n",
       "  </tbody>\n",
       "</table>\n",
       "<p>2 rows × 28 columns</p>\n",
       "</div>"
      ],
      "text/plain": [
       "   skipped  session_length  short_pause_before_play  \\\n",
       "0      0.0            20.0                      0.0   \n",
       "1      0.0            20.0                      0.0   \n",
       "\n",
       "   hist_user_behavior_n_seekfwd  hist_user_behavior_n_seekback    duration  \\\n",
       "0                           0.0                            0.0  180.066666   \n",
       "1                           0.0                            0.0  236.796371   \n",
       "\n",
       "   us_popularity_estimate  beat_strength  danceability    energy  ...  \\\n",
       "0               99.968133       0.438551      0.653119  0.553465  ...   \n",
       "1               99.896728       0.654804      0.877393  0.726828  ...   \n",
       "\n",
       "   acoustic_vector_4  acoustic_vector_6  acoustic_vector_7  start_clickrow  \\\n",
       "0          -0.333373          -0.353590           0.205826             0.0   \n",
       "1          -0.383164          -0.365308           0.157920             0.0   \n",
       "\n",
       "   start_fwdbtn  start_trackdone  end_backbtn  end_endplay  end_fwdbtn  \\\n",
       "0           0.0              1.0          0.0          0.0         0.0   \n",
       "1           0.0              1.0          0.0          0.0         0.0   \n",
       "\n",
       "   end_trackdone  \n",
       "0            1.0  \n",
       "1            1.0  \n",
       "\n",
       "[2 rows x 28 columns]"
      ]
     },
     "execution_count": 6,
     "metadata": {},
     "output_type": "execute_result"
    }
   ],
   "source": [
    "df.head(2)"
   ]
  },
  {
   "cell_type": "markdown",
   "id": "3d8eca78",
   "metadata": {},
   "source": [
    "Let's see some informations about the data"
   ]
  },
  {
   "cell_type": "code",
   "execution_count": 7,
   "id": "aa52d678",
   "metadata": {},
   "outputs": [
    {
     "name": "stdout",
     "output_type": "stream",
     "text": [
      "<class 'pandas.core.frame.DataFrame'>\n",
      "RangeIndex: 167880 entries, 0 to 167879\n",
      "Data columns (total 28 columns):\n",
      " #   Column                         Non-Null Count   Dtype  \n",
      "---  ------                         --------------   -----  \n",
      " 0   skipped                        167880 non-null  float64\n",
      " 1   session_length                 167880 non-null  float64\n",
      " 2   short_pause_before_play        167880 non-null  float64\n",
      " 3   hist_user_behavior_n_seekfwd   167880 non-null  float64\n",
      " 4   hist_user_behavior_n_seekback  167880 non-null  float64\n",
      " 5   duration                       167880 non-null  float64\n",
      " 6   us_popularity_estimate         167880 non-null  float64\n",
      " 7   beat_strength                  167880 non-null  float64\n",
      " 8   danceability                   167880 non-null  float64\n",
      " 9   energy                         167880 non-null  float64\n",
      " 10  flatness                       167880 non-null  float64\n",
      " 11  loudness                       167880 non-null  float64\n",
      " 12  organism                       167880 non-null  float64\n",
      " 13  speechiness                    167880 non-null  float64\n",
      " 14  tempo                          167880 non-null  float64\n",
      " 15  valence                        167880 non-null  float64\n",
      " 16  acoustic_vector_0              167880 non-null  float64\n",
      " 17  acoustic_vector_1              167880 non-null  float64\n",
      " 18  acoustic_vector_4              167880 non-null  float64\n",
      " 19  acoustic_vector_6              167880 non-null  float64\n",
      " 20  acoustic_vector_7              167880 non-null  float64\n",
      " 21  start_clickrow                 167880 non-null  float64\n",
      " 22  start_fwdbtn                   167880 non-null  float64\n",
      " 23  start_trackdone                167880 non-null  float64\n",
      " 24  end_backbtn                    167880 non-null  float64\n",
      " 25  end_endplay                    167880 non-null  float64\n",
      " 26  end_fwdbtn                     167880 non-null  float64\n",
      " 27  end_trackdone                  167880 non-null  float64\n",
      "dtypes: float64(28)\n",
      "memory usage: 35.9 MB\n"
     ]
    }
   ],
   "source": [
    "df.info()"
   ]
  },
  {
   "cell_type": "markdown",
   "id": "750b09c4",
   "metadata": {},
   "source": [
    "# KNN Classifier"
   ]
  },
  {
   "cell_type": "markdown",
   "id": "1777af98",
   "metadata": {},
   "source": [
    "Data Preprocessing will be done with the help of following script lines.\n",
    "\n"
   ]
  },
  {
   "cell_type": "code",
   "execution_count": 8,
   "id": "9da8047f",
   "metadata": {},
   "outputs": [],
   "source": [
    "X = df.iloc[:, 1:]\n",
    "y = df.iloc[:, 0]"
   ]
  },
  {
   "cell_type": "code",
   "execution_count": 9,
   "id": "ae90f43d",
   "metadata": {},
   "outputs": [],
   "source": [
    "X = pd.get_dummies(X)"
   ]
  },
  {
   "cell_type": "markdown",
   "id": "689e3649",
   "metadata": {},
   "source": [
    "Next, we will divide the data into train and test split. Following code will split the dataset into 90% training data and 10% of testing data −"
   ]
  },
  {
   "cell_type": "code",
   "execution_count": 10,
   "id": "7088809f",
   "metadata": {},
   "outputs": [],
   "source": [
    "from sklearn.model_selection import train_test_split\n",
    "X_train, X_test, y_train, y_test = train_test_split(X, y, test_size = 0.1, random_state = 30)"
   ]
  },
  {
   "cell_type": "markdown",
   "id": "d77e1752",
   "metadata": {},
   "source": [
    "Next, data scaling will be done as follows −\n",
    "\n"
   ]
  },
  {
   "cell_type": "code",
   "execution_count": 11,
   "id": "1186f640",
   "metadata": {},
   "outputs": [],
   "source": [
    "from sklearn.preprocessing import StandardScaler\n",
    "scaler = StandardScaler()\n",
    "scaler.fit(X_train)\n",
    "X_train = scaler.transform(X_train)\n",
    "X_test = scaler.transform(X_test)"
   ]
  },
  {
   "cell_type": "markdown",
   "id": "7acdd2c9",
   "metadata": {},
   "source": [
    "Next, train the model with the help of KNeighborsClassifier class of sklearn as follows −\n",
    "\n"
   ]
  },
  {
   "cell_type": "code",
   "execution_count": 12,
   "id": "306ce94e",
   "metadata": {},
   "outputs": [
    {
     "data": {
      "text/plain": [
       "KNeighborsClassifier(n_neighbors=3)"
      ]
     },
     "execution_count": 12,
     "metadata": {},
     "output_type": "execute_result"
    }
   ],
   "source": [
    "from sklearn.neighbors import KNeighborsClassifier\n",
    "classifier = KNeighborsClassifier(n_neighbors = 3)\n",
    "classifier.fit(X_train, y_train)\n"
   ]
  },
  {
   "cell_type": "markdown",
   "id": "100306e5",
   "metadata": {},
   "source": [
    "At last we need to make prediction. It can be done with the help of following script −\n",
    "\n"
   ]
  },
  {
   "cell_type": "code",
   "execution_count": 13,
   "id": "1c026383",
   "metadata": {},
   "outputs": [],
   "source": [
    "y_pred = classifier.predict(X_test)\n"
   ]
  },
  {
   "cell_type": "markdown",
   "id": "91963632",
   "metadata": {},
   "source": [
    "Next, print the results as follows −\n",
    "\n"
   ]
  },
  {
   "cell_type": "code",
   "execution_count": 14,
   "id": "bdba1eac",
   "metadata": {},
   "outputs": [
    {
     "name": "stdout",
     "output_type": "stream",
     "text": [
      "Confusion Matrix:\n",
      "[[ 5581   267]\n",
      " [  106 10834]]\n",
      "Classification Report:\n",
      "              precision    recall  f1-score   support\n",
      "\n",
      "         0.0       0.98      0.95      0.97      5848\n",
      "         1.0       0.98      0.99      0.98     10940\n",
      "\n",
      "    accuracy                           0.98     16788\n",
      "   macro avg       0.98      0.97      0.98     16788\n",
      "weighted avg       0.98      0.98      0.98     16788\n",
      "\n",
      "Accuracy: 0.9777817488682392\n"
     ]
    }
   ],
   "source": [
    "from sklearn.metrics import classification_report, confusion_matrix, accuracy_score\n",
    "result = confusion_matrix(y_test, y_pred)\n",
    "print(\"Confusion Matrix:\")\n",
    "print(result)\n",
    "result1 = classification_report(y_test, y_pred)\n",
    "print(\"Classification Report:\",)\n",
    "print (result1)\n",
    "result2 = accuracy_score(y_test,y_pred)\n",
    "print(\"Accuracy:\",result2)"
   ]
  }
 ],
 "metadata": {
  "kernelspec": {
   "display_name": "Python 3 (ipykernel)",
   "language": "python",
   "name": "python3"
  },
  "language_info": {
   "codemirror_mode": {
    "name": "ipython",
    "version": 3
   },
   "file_extension": ".py",
   "mimetype": "text/x-python",
   "name": "python",
   "nbconvert_exporter": "python",
   "pygments_lexer": "ipython3",
   "version": "3.9.7"
  }
 },
 "nbformat": 4,
 "nbformat_minor": 5
}
